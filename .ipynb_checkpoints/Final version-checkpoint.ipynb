{
 "cells": [
  {
   "cell_type": "markdown",
   "id": "59b2cc20-d3b3-47ac-a275-bdc6373b4eac",
   "metadata": {},
   "source": [
    "# 1- Collect Images Using OpenCV"
   ]
  },
  {
   "cell_type": "code",
   "execution_count": 2,
   "id": "53ff5138-f88a-4097-978a-487fcf06368e",
   "metadata": {},
   "outputs": [
    {
     "name": "stdout",
     "output_type": "stream",
     "text": [
      "Requirement already satisfied: opencv-contrib-python in /Library/Frameworks/Python.framework/Versions/3.10/lib/python3.10/site-packages (4.9.0.80)\n",
      "Requirement already satisfied: numpy>=1.17.0 in /Library/Frameworks/Python.framework/Versions/3.10/lib/python3.10/site-packages (from opencv-contrib-python) (1.26.4)\n",
      "\n",
      "\u001b[1m[\u001b[0m\u001b[34;49mnotice\u001b[0m\u001b[1;39;49m]\u001b[0m\u001b[39;49m A new release of pip is available: \u001b[0m\u001b[31;49m23.0.1\u001b[0m\u001b[39;49m -> \u001b[0m\u001b[32;49m24.0\u001b[0m\n",
      "\u001b[1m[\u001b[0m\u001b[34;49mnotice\u001b[0m\u001b[1;39;49m]\u001b[0m\u001b[39;49m To update, run: \u001b[0m\u001b[32;49mpip3 install --upgrade pip\u001b[0m\n"
     ]
    }
   ],
   "source": [
    "!pip3 install opencv-contrib-python"
   ]
  },
  {
   "cell_type": "code",
   "execution_count": 2,
   "id": "207693f4-43a6-4fb9-b35e-ffcf102c704d",
   "metadata": {
    "tags": []
   },
   "outputs": [],
   "source": [
    "import os\n",
    "import time\n",
    "import uuid\n",
    "import cv2 "
   ]
  },
  {
   "cell_type": "code",
   "execution_count": 2,
   "id": "e03b7a22-f334-4067-9ffb-42081e4d0ec5",
   "metadata": {
    "tags": []
   },
   "outputs": [],
   "source": [
    "IMAGES_PATH = os.path.join('data','images')\n",
    "number_images = 20"
   ]
  },
  {
   "cell_type": "code",
   "execution_count": 3,
   "id": "d26488c4-049c-4540-83fd-5075e718a637",
   "metadata": {
    "tags": []
   },
   "outputs": [
    {
     "name": "stdout",
     "output_type": "stream",
     "text": [
      "Collecting image 0\n",
      "Collecting image 1\n",
      "Collecting image 2\n",
      "Collecting image 3\n",
      "Collecting image 4\n",
      "Collecting image 5\n",
      "Collecting image 6\n",
      "Collecting image 7\n",
      "Collecting image 8\n",
      "Collecting image 9\n",
      "Collecting image 10\n",
      "Collecting image 11\n",
      "Collecting image 12\n",
      "Collecting image 13\n",
      "Collecting image 14\n",
      "Collecting image 15\n",
      "Collecting image 16\n",
      "Collecting image 17\n",
      "Collecting image 18\n",
      "Collecting image 19\n"
     ]
    }
   ],
   "source": [
    "cap = cv.VideoCapture(0)\n",
    "for imgnum in range(number_images):\n",
    "    print('Collecting image {}'.format(imgnum))\n",
    "    ret, frame = cap.read()\n",
    "    imgname = os.path.join(IMAGES_PATH,f'{str(uuid.uuid1())}.jpg')\n",
    "    cv.imwrite(imgname, frame)\n",
    "    cv.imshow('frame', frame)\n",
    "    time.sleep(0.5)\n",
    "\n",
    "    if cv.waitKey(1) & 0xFF == ord('q'):\n",
    "        break\n",
    "cap.release()\n",
    "cv.destroyAllWindows()"
   ]
  },
  {
   "cell_type": "markdown",
   "id": "ddc887ee-71bd-404c-90f2-cce82c80aed4",
   "metadata": {},
   "source": [
    "# 2-Partition Unaugmented Data"
   ]
  },
  {
   "cell_type": "markdown",
   "id": "1607338c-97e2-4549-81c2-49630d4b78ba",
   "metadata": {},
   "source": [
    "### 2.1 SPLIT DATA INTO TRAIN TEST AND VAL"
   ]
  },
  {
   "cell_type": "code",
   "execution_count": 43,
   "id": "8b90eeea-7c78-456b-a82c-4e3003a303bb",
   "metadata": {},
   "outputs": [],
   "source": [
    "import shutil\n",
    "import random\n",
    "\n",
    "class file_mover():\n",
    "    def __init__(self, destination_folder, source_folder = 'data/images/'):\n",
    "        self.source = source_folder\n",
    "        self.destination = destination_folder\n",
    "    \n",
    "    def for_loop(self, amount):\n",
    "        for _ in range(amount):\n",
    "              \n",
    "    # Choose a random file from the list\n",
    "            random_file = random.choice(os.listdir(self.source))\n",
    "\n",
    "    # Create the full paths for the source and destination files\n",
    "            source_file_path = os.path.join(self.source, random_file)\n",
    "            destination_file_path = os.path.join(self.destination, random_file)\n",
    "\n",
    "    # Move the file to the destination folder\n",
    "            shutil.move(source_file_path, destination_file_path)\n"
   ]
  },
  {
   "cell_type": "code",
   "execution_count": 45,
   "id": "c28fe3a2-58bd-4144-91bc-b35b3f899b1c",
   "metadata": {},
   "outputs": [],
   "source": [
    "\n",
    "##Train will be 63 images\n",
    "destination_folder = 'data/train/images'\n",
    "file_mover(destination_folder).for_loop(63)\n",
    "\n",
    "## Val will be 37\n",
    "destination_folder = 'data/val/images'\n",
    "file_mover(destination_folder).for_loop(37)"
   ]
  },
  {
   "cell_type": "markdown",
   "id": "88970bc3-56d8-47ce-98e7-0dfda6244c67",
   "metadata": {},
   "source": [
    "### 2.2 Move the Matching Labels"
   ]
  },
  {
   "cell_type": "code",
   "execution_count": 46,
   "id": "7e41e0f8-7e5e-4c8a-9be4-4493139ee872",
   "metadata": {
    "tags": []
   },
   "outputs": [],
   "source": [
    "for folder in ['train','test','val']:\n",
    "    for file in os.listdir(os.path.join('data', folder, 'images')):\n",
    "        \n",
    "        filename = file.split('.')[0]+'.json'\n",
    "        existing_filepath = os.path.join('data','labels', filename)\n",
    "        if os.path.exists(existing_filepath): \n",
    "            new_filepath = os.path.join('data',folder,'labels',filename)\n",
    "            os.replace(existing_filepath, new_filepath)      "
   ]
  },
  {
   "cell_type": "markdown",
   "id": "3babc59c-1ebe-4a18-8bb0-8ff606335512",
   "metadata": {},
   "source": [
    "# 3- Apply Image Augmentation on Images and Labels using Albumentations"
   ]
  },
  {
   "cell_type": "markdown",
   "id": "ac67eaed-4aa7-472d-b629-16685d356b65",
   "metadata": {},
   "source": [
    "### 3.1 Setup Albumentations Transform Pipeline"
   ]
  },
  {
   "cell_type": "code",
   "execution_count": 3,
   "id": "d89829d0-9bd9-4375-9532-2ddd8b66a0cd",
   "metadata": {
    "tags": []
   },
   "outputs": [],
   "source": [
    "import albumentations as alb"
   ]
  },
  {
   "cell_type": "code",
   "execution_count": 6,
   "id": "ac7ba296-d374-4039-8c11-4e6adb8eec50",
   "metadata": {
    "tags": []
   },
   "outputs": [],
   "source": [
    "augmentor = alb.Compose([alb.RandomCrop(width=720, height=720), \n",
    "                         alb.HorizontalFlip(p=0.5), \n",
    "                         alb.RandomBrightnessContrast(p=0.2),\n",
    "                         alb.RandomGamma(p=0.2), \n",
    "                         alb.RGBShift(p=0.2), \n",
    "                         alb.VerticalFlip(p=0.5)], \n",
    "                       bbox_params=alb.BboxParams(format='albumentations', \n",
    "                                                  label_fields=['class_labels']))"
   ]
  },
  {
   "cell_type": "markdown",
   "id": "d9864103-5419-458a-bd7c-d7a31041bd32",
   "metadata": {},
   "source": [
    "### 3.2 Load a Test Image and Annotation with OpenCV and JSON"
   ]
  },
  {
   "cell_type": "code",
   "execution_count": 7,
   "id": "c95a1843-07c3-4098-8441-ac30c44e1e21",
   "metadata": {
    "tags": []
   },
   "outputs": [
    {
     "data": {
      "text/plain": [
       "(720, 1280, 3)"
      ]
     },
     "execution_count": 7,
     "metadata": {},
     "output_type": "execute_result"
    }
   ],
   "source": [
    "img = cv2.imread(os.path.join('data','train', 'images','0619d95e-cce1-11ee-989e-dca904778dc6.jpg'))\n",
    "img.shape"
   ]
  },
  {
   "cell_type": "code",
   "execution_count": 8,
   "id": "8c54d0d3-d9ce-499b-8a17-f0b0e7f92c58",
   "metadata": {
    "tags": []
   },
   "outputs": [],
   "source": [
    "with open(os.path.join('data', 'train', 'labels', '0619d95e-cce1-11ee-989e-dca904778dc6.json'), 'r') as f:\n",
    "    label = json.load(f)"
   ]
  },
  {
   "cell_type": "code",
   "execution_count": 9,
   "id": "af11b468-7867-41a6-93bd-5077bb894b92",
   "metadata": {},
   "outputs": [
    {
     "data": {
      "text/plain": [
       "[[254.8648648648649, 93.78378378378379], [824.2342342342342, 637.027027027027]]"
      ]
     },
     "execution_count": 9,
     "metadata": {},
     "output_type": "execute_result"
    }
   ],
   "source": [
    "label['shapes'][0]['points']"
   ]
  },
  {
   "cell_type": "markdown",
   "id": "da973497-6e84-433f-abff-8cfd53f4ed00",
   "metadata": {},
   "source": [
    "### 3.3 Extract Coordinates and Rescale to Match Image Resolution"
   ]
  },
  {
   "cell_type": "code",
   "execution_count": 10,
   "id": "55ee54cc-63bd-429a-b849-465886baccf1",
   "metadata": {
    "tags": []
   },
   "outputs": [],
   "source": [
    "coords = [0,0,0,0]\n",
    "coords[0] = label['shapes'][0]['points'][0][0]\n",
    "coords[1] = label['shapes'][0]['points'][0][1]\n",
    "coords[2] = label['shapes'][0]['points'][1][0]\n",
    "coords[3] = label['shapes'][0]['points'][1][1]"
   ]
  },
  {
   "cell_type": "code",
   "execution_count": 11,
   "id": "a78c5047-a6d5-4722-a389-0709de7dc80e",
   "metadata": {},
   "outputs": [
    {
     "data": {
      "text/plain": [
       "[254.8648648648649, 93.78378378378379, 824.2342342342342, 637.027027027027]"
      ]
     },
     "execution_count": 11,
     "metadata": {},
     "output_type": "execute_result"
    }
   ],
   "source": [
    "coords"
   ]
  },
  {
   "cell_type": "code",
   "execution_count": 12,
   "id": "4c720d51-b8b1-4b06-85f7-d6458e5a39ee",
   "metadata": {
    "tags": []
   },
   "outputs": [],
   "source": [
    "coords = list(np.divide(coords, [1280,720,1280,720]))"
   ]
  },
  {
   "cell_type": "code",
   "execution_count": 13,
   "id": "7dbb9009-844f-4dc9-bae7-1aeb2964119e",
   "metadata": {},
   "outputs": [
    {
     "data": {
      "text/plain": [
       "[0.1991131756756757,\n",
       " 0.13025525525525528,\n",
       " 0.6439329954954955,\n",
       " 0.8847597597597597]"
      ]
     },
     "execution_count": 13,
     "metadata": {},
     "output_type": "execute_result"
    }
   ],
   "source": [
    "coords"
   ]
  },
  {
   "cell_type": "markdown",
   "id": "c51cb015-bd93-4897-b1c1-6258212f4f1e",
   "metadata": {},
   "source": [
    "### 3.4 Apply Augmentations and View Results"
   ]
  },
  {
   "cell_type": "code",
   "execution_count": 14,
   "id": "82a0826e-ffd9-4b7a-940a-98a48c339ae5",
   "metadata": {
    "tags": []
   },
   "outputs": [],
   "source": [
    "augmented = augmentor(image=img, bboxes=[coords], class_labels=['person1'])"
   ]
  },
  {
   "cell_type": "code",
   "execution_count": 15,
   "id": "232a1e5c-b67e-4913-a7e9-74b4b2ebfb8a",
   "metadata": {
    "tags": []
   },
   "outputs": [
    {
     "data": {
      "text/plain": [
       "array([[[118, 127, 131],\n",
       "        [115, 124, 128],\n",
       "        [115, 126, 130],\n",
       "        ...,\n",
       "        [ 73,  76,  81],\n",
       "        [ 66,  69,  74],\n",
       "        [ 64,  67,  72]],\n",
       "\n",
       "       [[120, 129, 133],\n",
       "        [123, 132, 136],\n",
       "        [110, 121, 125],\n",
       "        ...,\n",
       "        [ 77,  80,  85],\n",
       "        [ 75,  78,  83],\n",
       "        [ 72,  75,  80]],\n",
       "\n",
       "       [[117, 126, 130],\n",
       "        [123, 132, 136],\n",
       "        [120, 131, 135],\n",
       "        ...,\n",
       "        [ 77,  80,  85],\n",
       "        [ 74,  77,  82],\n",
       "        [ 69,  72,  77]],\n",
       "\n",
       "       ...,\n",
       "\n",
       "       [[ 17,  21,  32],\n",
       "        [ 12,  18,  29],\n",
       "        [ 13,  19,  30],\n",
       "        ...,\n",
       "        [ 12,  15,  20],\n",
       "        [ 12,  14,  22],\n",
       "        [ 12,  14,  22]],\n",
       "\n",
       "       [[ 17,  21,  32],\n",
       "        [ 15,  21,  32],\n",
       "        [ 14,  20,  31],\n",
       "        ...,\n",
       "        [ 12,  15,  20],\n",
       "        [ 12,  14,  22],\n",
       "        [ 12,  14,  22]],\n",
       "\n",
       "       [[ 12,  16,  27],\n",
       "        [ 11,  17,  28],\n",
       "        [ 10,  16,  27],\n",
       "        ...,\n",
       "        [ 12,  15,  20],\n",
       "        [ 12,  14,  22],\n",
       "        [ 12,  14,  22]]], dtype=uint8)"
      ]
     },
     "execution_count": 15,
     "metadata": {},
     "output_type": "execute_result"
    }
   ],
   "source": [
    "augmented['image']"
   ]
  },
  {
   "cell_type": "code",
   "execution_count": 16,
   "id": "1f485b69-31af-40dc-8310-c8137b8f5513",
   "metadata": {},
   "outputs": [
    {
     "data": {
      "text/plain": [
       "[(0.0, 0.13025525525525528, 0.7031031031031031, 0.8847597597597597)]"
      ]
     },
     "execution_count": 16,
     "metadata": {},
     "output_type": "execute_result"
    }
   ],
   "source": [
    "augmented['bboxes']"
   ]
  },
  {
   "cell_type": "code",
   "execution_count": null,
   "id": "39eac4c9-3088-4e27-b350-d15ac18c00d8",
   "metadata": {
    "tags": []
   },
   "outputs": [],
   "source": [
    "cv2.rectangle(augmented['image'], \n",
    "              tuple(np.multiply(augmented['bboxes'][0][:2], [700,700]).astype(int)),\n",
    "              tuple(np.multiply(augmented['bboxes'][0][2:], [700,700]).astype(int)), \n",
    "                    (255,0,0), 2)\n",
    "\n",
    "plt.imshow(augmented['image'])"
   ]
  },
  {
   "cell_type": "markdown",
   "id": "b2ae1851-b90e-4d17-ad27-f20b35b00b94",
   "metadata": {},
   "source": [
    "# 4- Build and Run Augmentation Pipeline"
   ]
  },
  {
   "cell_type": "markdown",
   "id": "ccc0017b-4beb-4241-b667-ff897b9eab2d",
   "metadata": {},
   "source": [
    "### 4.1 Run Augmentation Pipeline"
   ]
  },
  {
   "cell_type": "code",
   "execution_count": 18,
   "id": "a6e1e07f-4129-43c0-b8dc-a5a1c7ab0e67",
   "metadata": {
    "tags": []
   },
   "outputs": [
    {
     "name": "stdout",
     "output_type": "stream",
     "text": [
      "image must be numpy array type\n",
      "x_max is less than or equal to x_min for bbox [0.2575309684684685, 0.9773523523523522, 0.0, 0.449659468733038, 'face'].\n",
      "image must be numpy array type\n"
     ]
    }
   ],
   "source": [
    "for partition in ['test','train','val']: \n",
    "    for image in os.listdir(os.path.join('data', partition, 'images')):\n",
    "        img = cv2.imread(os.path.join('data', partition, 'images', image))\n",
    "\n",
    "        coords = [0,0,0.00001,0.00001]\n",
    "        label_path = os.path.join('data', partition, 'labels', f'{image.split(\".\")[0]}.json')\n",
    "        if os.path.exists(label_path):\n",
    "            with open(label_path, 'r') as f:\n",
    "                label = json.load(f)\n",
    "\n",
    "            coords[0] = label['shapes'][0]['points'][0][0]\n",
    "            coords[1] = label['shapes'][0]['points'][0][1]\n",
    "            coords[2] = label['shapes'][0]['points'][1][0]\n",
    "            coords[3] = label['shapes'][0]['points'][1][1]\n",
    "            coords = list(np.divide(coords, [1280,720,1280,720]))\n",
    "\n",
    "        try: \n",
    "            for x in range(30):\n",
    "                augmented = augmentor(image=img, bboxes=[coords], class_labels=['face'])\n",
    "                cv2.imwrite(os.path.join('aug_data', partition, 'images', f'{image.split(\".\")[0]}.{x}.jpg'), augmented['image'])\n",
    "\n",
    "                annotation = {}\n",
    "                annotation['image'] = image\n",
    "\n",
    "                if os.path.exists(label_path):\n",
    "                    if len(augmented['bboxes']) == 0: \n",
    "                        annotation['bbox'] = [0,0,0,0]\n",
    "                        annotation['class'] = 0 \n",
    "                    else: \n",
    "                        annotation['bbox'] = augmented['bboxes'][0]\n",
    "                        annotation['class'] = 1\n",
    "                else: \n",
    "                    annotation['bbox'] = [0,0,0,0]\n",
    "                    annotation['class'] = 0 \n",
    "\n",
    "\n",
    "                with open(os.path.join('aug_data', partition, 'labels', f'{image.split(\".\")[0]}.{x}.json'), 'w') as f:\n",
    "                    json.dump(annotation, f)\n",
    "\n",
    "        except Exception as e:\n",
    "            print(e)"
   ]
  },
  {
   "cell_type": "markdown",
   "id": "676a86b1-e82a-4157-8bac-157ddc3bd2da",
   "metadata": {},
   "source": [
    "### 4.2 Load a Test Image and Annotation with OpenCV and JSON"
   ]
  },
  {
   "cell_type": "code",
   "execution_count": 7,
   "id": "d7d382e0-9332-480b-921c-2ace59ff1e24",
   "metadata": {
    "tags": []
   },
   "outputs": [
    {
     "data": {
      "text/plain": [
       "(720, 1280, 3)"
      ]
     },
     "execution_count": 7,
     "metadata": {},
     "output_type": "execute_result"
    }
   ],
   "source": [
    "img = cv2.imread(os.path.join('data','train', 'images','0619d95e-cce1-11ee-989e-dca904778dc6.jpg'))\n",
    "img.shape"
   ]
  },
  {
   "cell_type": "code",
   "execution_count": 8,
   "id": "7d73384e-941e-4b34-b242-9a3b51cf9c17",
   "metadata": {
    "tags": []
   },
   "outputs": [],
   "source": [
    "with open(os.path.join('data', 'train', 'labels', '0619d95e-cce1-11ee-989e-dca904778dc6.json'), 'r') as f:\n",
    "    label = json.load(f)"
   ]
  },
  {
   "cell_type": "code",
   "execution_count": 9,
   "id": "f1af43ad-1ab7-4872-bad1-152ee05acbfc",
   "metadata": {},
   "outputs": [
    {
     "data": {
      "text/plain": [
       "[[254.8648648648649, 93.78378378378379], [824.2342342342342, 637.027027027027]]"
      ]
     },
     "execution_count": 9,
     "metadata": {},
     "output_type": "execute_result"
    }
   ],
   "source": [
    "label['shapes'][0]['points']"
   ]
  },
  {
   "cell_type": "markdown",
   "id": "437dfd83-03d5-493e-a433-0ada0a693b24",
   "metadata": {},
   "source": [
    "### 4.3 Extract Coordinates and Rescale to Match Image Resolution"
   ]
  },
  {
   "cell_type": "code",
   "execution_count": 10,
   "id": "095417d9-b8d5-4c92-97e1-941c118f365e",
   "metadata": {
    "tags": []
   },
   "outputs": [],
   "source": [
    "coords = [0,0,0,0]\n",
    "coords[0] = label['shapes'][0]['points'][0][0]\n",
    "coords[1] = label['shapes'][0]['points'][0][1]\n",
    "coords[2] = label['shapes'][0]['points'][1][0]\n",
    "coords[3] = label['shapes'][0]['points'][1][1]"
   ]
  },
  {
   "cell_type": "code",
   "execution_count": 11,
   "id": "7780cdb2-bab1-4154-baaa-762e75670a08",
   "metadata": {},
   "outputs": [
    {
     "data": {
      "text/plain": [
       "[254.8648648648649, 93.78378378378379, 824.2342342342342, 637.027027027027]"
      ]
     },
     "execution_count": 11,
     "metadata": {},
     "output_type": "execute_result"
    }
   ],
   "source": [
    "coords"
   ]
  },
  {
   "cell_type": "code",
   "execution_count": 12,
   "id": "804cd008-8c13-4b54-ae3d-2fd21434a9e6",
   "metadata": {
    "tags": []
   },
   "outputs": [],
   "source": [
    "coords = list(np.divide(coords, [1280,720,1280,720]))"
   ]
  },
  {
   "cell_type": "code",
   "execution_count": 13,
   "id": "3512ee84-0eab-4030-9968-5ca0454581a6",
   "metadata": {},
   "outputs": [
    {
     "data": {
      "text/plain": [
       "[0.1991131756756757,\n",
       " 0.13025525525525528,\n",
       " 0.6439329954954955,\n",
       " 0.8847597597597597]"
      ]
     },
     "execution_count": 13,
     "metadata": {},
     "output_type": "execute_result"
    }
   ],
   "source": [
    "coords"
   ]
  },
  {
   "cell_type": "markdown",
   "id": "214c2654-a33a-4bc4-9cff-842e4c2e9518",
   "metadata": {},
   "source": [
    "### 4.4 Apply Augmentations and View Results"
   ]
  },
  {
   "cell_type": "code",
   "execution_count": 14,
   "id": "b8ca15a1-f44c-405d-a2c2-d61ae7181f05",
   "metadata": {
    "tags": []
   },
   "outputs": [],
   "source": [
    "augmented = augmentor(image=img, bboxes=[coords], class_labels=['person1'])"
   ]
  },
  {
   "cell_type": "code",
   "execution_count": 15,
   "id": "9078981d-19e1-4925-96a3-783b54b93303",
   "metadata": {
    "tags": []
   },
   "outputs": [
    {
     "data": {
      "text/plain": [
       "array([[[118, 127, 131],\n",
       "        [115, 124, 128],\n",
       "        [115, 126, 130],\n",
       "        ...,\n",
       "        [ 73,  76,  81],\n",
       "        [ 66,  69,  74],\n",
       "        [ 64,  67,  72]],\n",
       "\n",
       "       [[120, 129, 133],\n",
       "        [123, 132, 136],\n",
       "        [110, 121, 125],\n",
       "        ...,\n",
       "        [ 77,  80,  85],\n",
       "        [ 75,  78,  83],\n",
       "        [ 72,  75,  80]],\n",
       "\n",
       "       [[117, 126, 130],\n",
       "        [123, 132, 136],\n",
       "        [120, 131, 135],\n",
       "        ...,\n",
       "        [ 77,  80,  85],\n",
       "        [ 74,  77,  82],\n",
       "        [ 69,  72,  77]],\n",
       "\n",
       "       ...,\n",
       "\n",
       "       [[ 17,  21,  32],\n",
       "        [ 12,  18,  29],\n",
       "        [ 13,  19,  30],\n",
       "        ...,\n",
       "        [ 12,  15,  20],\n",
       "        [ 12,  14,  22],\n",
       "        [ 12,  14,  22]],\n",
       "\n",
       "       [[ 17,  21,  32],\n",
       "        [ 15,  21,  32],\n",
       "        [ 14,  20,  31],\n",
       "        ...,\n",
       "        [ 12,  15,  20],\n",
       "        [ 12,  14,  22],\n",
       "        [ 12,  14,  22]],\n",
       "\n",
       "       [[ 12,  16,  27],\n",
       "        [ 11,  17,  28],\n",
       "        [ 10,  16,  27],\n",
       "        ...,\n",
       "        [ 12,  15,  20],\n",
       "        [ 12,  14,  22],\n",
       "        [ 12,  14,  22]]], dtype=uint8)"
      ]
     },
     "execution_count": 15,
     "metadata": {},
     "output_type": "execute_result"
    }
   ],
   "source": [
    "augmented['image']"
   ]
  },
  {
   "cell_type": "code",
   "execution_count": 16,
   "id": "f684a814-bb31-4874-8866-1b94a1f1c2fa",
   "metadata": {},
   "outputs": [
    {
     "data": {
      "text/plain": [
       "[(0.0, 0.13025525525525528, 0.7031031031031031, 0.8847597597597597)]"
      ]
     },
     "execution_count": 16,
     "metadata": {},
     "output_type": "execute_result"
    }
   ],
   "source": [
    "augmented['bboxes']"
   ]
  },
  {
   "cell_type": "markdown",
   "id": "b7a151e0-fa51-40d1-8f86-91ee6019b8e7",
   "metadata": {},
   "source": [
    "# 5. Setup and Create Custom Dataset"
   ]
  },
  {
   "cell_type": "code",
   "execution_count": 3,
   "id": "caeade4d-9aab-436b-a45f-3f40e0cb971a",
   "metadata": {},
   "outputs": [],
   "source": [
    "import os\n",
    "import torch\n",
    "from torch.utils.data import Dataset\n",
    "from torchvision import transforms\n",
    "from PIL import Image\n",
    "import json\n",
    "import torch.optim as optim\n",
    "from torch.utils.data import DataLoader\n",
    "\n",
    "class CustomDataset(Dataset):\n",
    "    def __init__(self, image_folder, label_folder, transform=None):\n",
    "        self.image_folder = image_folder\n",
    "        self.label_folder = label_folder\n",
    "        self.transform = transform\n",
    "\n",
    "        self.images = sorted(os.listdir(image_folder))\n",
    "        self.labels = sorted(file for file in os.listdir(label_folder) if file.endswith('.json'))\n",
    "\n",
    "    def __len__(self):\n",
    "        return len(self.images)\n",
    "\n",
    "    def __getitem__(self, idx):\n",
    "        img_path = os.path.join(self.image_folder, self.images[idx])\n",
    "\n",
    "        # Get the corresponding label file in the label folder\n",
    "        label_file = self.labels[idx]\n",
    "        label_path = os.path.join(self.label_folder, label_file)\n",
    "\n",
    "        image = Image.open(img_path).convert(\"RGB\")\n",
    "\n",
    "        # Open and read the content of the label file\n",
    "        with open(label_path, 'r') as f:\n",
    "            # Load JSON content from the label file\n",
    "            label_data = json.load(f)\n",
    "\n",
    "        # Convert label data to tensor\n",
    "        # Assuming your label_data contains 'class' and 'bboxes'\n",
    "        label_tensor = torch.tensor([label_data['class']] + label_data['bbox'], dtype=torch.float32)\n",
    "\n",
    "        # Apply transformations\n",
    "        if self.transform:\n",
    "            image = self.transform(image)\n",
    "\n",
    "        return image, label_tensor\n",
    "\n",
    "# Define your transformation\n",
    "transform = transforms.Compose([\n",
    "    transforms.Resize((120, 120)),\n",
    "    transforms.ToTensor()\n",
    "])\n",
    "\n",
    "train_dataset = CustomDataset(image_folder='aug_data/train/images', label_folder='aug_data/train/labels', transform=transform)\n",
    "val_dataset = CustomDataset(image_folder='aug_data/val/images', label_folder='aug_data/val/labels/', transform=transform)"
   ]
  },
  {
   "cell_type": "markdown",
   "id": "9ce20255-5cad-4b28-84c5-b932901b5184",
   "metadata": {},
   "source": [
    "# 2- Create the CNN using Batch-Norm and Max-Pooling"
   ]
  },
  {
   "cell_type": "code",
   "execution_count": 4,
   "id": "7d20a4e4-4200-4f2f-8795-473d115aa1d1",
   "metadata": {},
   "outputs": [],
   "source": [
    "import torch.nn as nn\n",
    "\n",
    "class SimpleCNN(nn.Module):\n",
    "    def __init__(self):\n",
    "        super(SimpleCNN, self).__init__()\n",
    "        self.conv1 = nn.Conv2d(3, 16, kernel_size=3, stride=1, padding=1)\n",
    "        self.batch_norm1 = nn.BatchNorm2d(16)\n",
    "        self.pool1 = nn.MaxPool2d(2, 2)\n",
    "\n",
    "        self.conv2 = nn.Conv2d(16, 32, kernel_size=3, stride=1, padding=1)\n",
    "        self.batch_norm2 = nn.BatchNorm2d(32)\n",
    "        self.pool2 = nn.MaxPool2d(2, 2)\n",
    "\n",
    "        self.conv3 = nn.Conv2d(32, 64, kernel_size=3, stride=1, padding=1)\n",
    "        self.batch_norm3 = nn.BatchNorm2d(64)\n",
    "        self.pool3 = nn.MaxPool2d(2, 2)\n",
    "\n",
    "        self.conv4 = nn.Conv2d(64, 128, kernel_size=3, stride=1, padding=1)\n",
    "        self.batch_norm4 = nn.BatchNorm2d(128)\n",
    "        self.pool4 = nn.MaxPool2d(2, 2)\n",
    "\n",
    "        self.fc1 = nn.Linear(128 * 7 * 7, 512)\n",
    "        self.fc2 = nn.Linear(512, 5)  # Assuming 6 parameters for bounding box + class\n",
    "\n",
    "    def forward(self, x):\n",
    "        x = self.pool1(self.batch_norm1(nn.functional.relu(self.conv1(x))))\n",
    "        x = self.pool2(self.batch_norm2(nn.functional.relu(self.conv2(x))))\n",
    "        x = self.pool3(self.batch_norm3(nn.functional.relu(self.conv3(x))))\n",
    "        x = self.pool4(self.batch_norm4(nn.functional.relu(self.conv4(x))))\n",
    "\n",
    "        x = x.view(-1, 128 * 7 * 7)\n",
    "        x = nn.functional.relu(self.fc1(x))\n",
    "        x = self.fc2(x)\n",
    "\n",
    "        return x\n",
    "\n",
    "model = SimpleCNN()"
   ]
  },
  {
   "cell_type": "markdown",
   "id": "deaad07e-c89d-4d66-9360-c2c69e9cb315",
   "metadata": {},
   "source": [
    "# 3- Train the model"
   ]
  },
  {
   "cell_type": "code",
   "execution_count": 5,
   "id": "ba787cf0-bd65-4bba-b578-16d7149982aa",
   "metadata": {},
   "outputs": [
    {
     "name": "stdout",
     "output_type": "stream",
     "text": [
      "Epoch 1/5, Train Loss: 0.027534882786373296, Validation Loss: 0.0961288046091795\n",
      "Epoch 2/5, Train Loss: 0.02533046609411637, Validation Loss: 0.03846120914178235\n",
      "Epoch 3/5, Train Loss: 0.017338657813767592, Validation Loss: 0.02882645691611937\n",
      "Epoch 4/5, Train Loss: 0.012750950704018275, Validation Loss: 0.025986706971057823\n",
      "Epoch 5/5, Train Loss: 0.010920316081804533, Validation Loss: 0.025309070013463497\n"
     ]
    }
   ],
   "source": [
    "import torch.optim as optim\n",
    "\n",
    "train_loader = DataLoader(train_dataset, batch_size=64, shuffle=True)\n",
    "val_loader = DataLoader(val_dataset, batch_size=64, shuffle=False)\n",
    "\n",
    "\n",
    "def train(model, train_loader, val_loader, num_epochs=5, learning_rate=0.001):\n",
    "    device = torch.device(\"cuda\" if torch.cuda.is_available() else \"cpu\")\n",
    "    model.to(device)\n",
    "\n",
    "    criterion = nn.MSELoss()\n",
    "    optimizer = optim.Adam(model.parameters(), lr=learning_rate)\n",
    "\n",
    "    train_losses = []\n",
    "    val_losses = []\n",
    "\n",
    "    for epoch in range(num_epochs):\n",
    "        model.train()\n",
    "        epoch_train_loss = 0.0\n",
    "        for images, labels in train_loader:\n",
    "            images, labels = images.to(device), labels.to(device)\n",
    "\n",
    "            optimizer.zero_grad()\n",
    "            outputs = model(images)\n",
    "            loss = criterion(outputs, labels)\n",
    "            loss.backward()\n",
    "            optimizer.step()\n",
    "\n",
    "            epoch_train_loss += loss.item()\n",
    "\n",
    "        # Validation\n",
    "        model.eval()\n",
    "        epoch_val_loss = 0.0\n",
    "        with torch.no_grad():\n",
    "            for images, labels in val_loader:\n",
    "                images, labels = images.to(device), labels.to(device)\n",
    "                outputs = model(images)\n",
    "                val_loss = criterion(outputs, labels)\n",
    "                epoch_val_loss += val_loss.item()\n",
    "\n",
    "        # Average loss over all batches in an epoch\n",
    "        epoch_train_loss /= len(train_loader)\n",
    "        epoch_val_loss /= len(val_loader)\n",
    "\n",
    "        print(f'Epoch {epoch+1}/{num_epochs}, Train Loss: {epoch_train_loss}, Validation Loss: {epoch_val_loss}')\n",
    "\n",
    "        # Save losses for plotting\n",
    "        train_losses.append(epoch_train_loss)\n",
    "        val_losses.append(epoch_val_loss)\n",
    "\n",
    "    return train_losses, val_losses\n",
    "    \n",
    "train_losses, val_losses = train(model, train_loader, val_loader, num_epochs=5, learning_rate=0.001)\n",
    "\n",
    "model_path = 'Models/model_CNN.pth'\n",
    "torch.save(model.state_dict(), model_path)"
   ]
  },
  {
   "cell_type": "markdown",
   "id": "47dab15e-7049-4fef-a0d1-1e145fe5cb1b",
   "metadata": {},
   "source": [
    "# 4- Plot the Training Loss x Validation Loss"
   ]
  },
  {
   "cell_type": "code",
   "execution_count": 6,
   "id": "8b2e0716-33e8-4716-928a-06100de2dc64",
   "metadata": {},
   "outputs": [
    {
     "data": {
      "image/png": "[encoded data removed]",
      "text/plain": [
       "<Figure size 640x480 with 1 Axes>"
      ]
     },
     "metadata": {},
     "output_type": "display_data"
    }
   ],
   "source": [
    "import matplotlib.pyplot as plt\n",
    "\n",
    "def plot_loss(train_losses, val_losses):\n",
    "    plt.plot(train_losses, label='Training Loss')\n",
    "    plt.plot(val_losses, label='Validation Loss')\n",
    "    plt.xlabel('Epoch')\n",
    "    plt.ylabel('Loss')\n",
    "    plt.legend()\n",
    "    plt.show()\n",
    "plot_loss(train_losses, val_losses)"
   ]
  },
  {
   "cell_type": "markdown",
   "id": "ec9839ab-0b43-4f55-add3-f262b1f2c609",
   "metadata": {},
   "source": [
    "# 5 - Create OpenCV Detection Function"
   ]
  },
  {
   "cell_type": "code",
   "execution_count": 2,
   "id": "702e2517-6205-41c1-98f7-0009d7163ec7",
   "metadata": {},
   "outputs": [
    {
     "ename": "NameError",
     "evalue": "name 'SimpleCNN' is not defined",
     "output_type": "error",
     "traceback": [
      "\u001b[0;31m---------------------------------------------------------------------------\u001b[0m",
      "\u001b[0;31mNameError\u001b[0m                                 Traceback (most recent call last)",
      "Cell \u001b[0;32mIn[2], line 8\u001b[0m\n\u001b[1;32m      5\u001b[0m \u001b[38;5;28;01mfrom\u001b[39;00m \u001b[38;5;21;01mPIL\u001b[39;00m \u001b[38;5;28;01mimport\u001b[39;00m Image\n\u001b[1;32m      7\u001b[0m \u001b[38;5;66;03m# Load the trained model\u001b[39;00m\n\u001b[0;32m----> 8\u001b[0m model \u001b[38;5;241m=\u001b[39m \u001b[43mSimpleCNN\u001b[49m()\n\u001b[1;32m      9\u001b[0m model\u001b[38;5;241m.\u001b[39mload_state_dict(torch\u001b[38;5;241m.\u001b[39mload(\u001b[38;5;124m'\u001b[39m\u001b[38;5;124mModels/model_CNN.pth\u001b[39m\u001b[38;5;124m'\u001b[39m))\n\u001b[1;32m     10\u001b[0m model\u001b[38;5;241m.\u001b[39meval()\n",
      "\u001b[0;31mNameError\u001b[0m: name 'SimpleCNN' is not defined"
     ]
    }
   ],
   "source": [
    "import cv2\n",
    "import torch\n",
    "import numpy as np\n",
    "from torchvision import transforms\n",
    "from PIL import Image\n",
    "\n",
    "# Load the trained model\n",
    "model = SimpleCNN()\n",
    "model.load_state_dict(torch.load('Models/model_CNN.pth'))\n",
    "model.eval()\n",
    "\n",
    "def detect_face(frame, model):\n",
    "    # Preprocess the frame\n",
    "    img = cv2.resize(frame, (120, 120))\n",
    "    img = Image.fromarray(img)  # Convert numpy array to PIL Image\n",
    "    transform = transforms.Compose([\n",
    "        transforms.ToTensor(),\n",
    "        # Add any other necessary transformations\n",
    "    ])\n",
    "    img = transform(img)\n",
    "    img = img.unsqueeze(0)  # Add batch dimension\n",
    "\n",
    "    # Run the model\n",
    "    with torch.no_grad():\n",
    "        output = model(img)\n",
    "        \n",
    "\n",
    "    # Post-process the output (assuming bounding box coordinates and class)\n",
    "    # Extract class and bounding box coordinates from the output tensor\n",
    "    pred_class = int(output[0, 0])\n",
    "    bbox = list(map(float, output[0, 1:].tolist()))\n",
    "    print(bbox[3])\n",
    "    print(pred_class)\n",
    "    \n",
    "\n",
    "    # Draw bounding box only if the predicted class is 0\n",
    "    if pred_class == 0:\n",
    "        print(f\"Class: {pred_class}, Bbox: {bbox}\")\n",
    "    \n",
    "        bbox = [int(coord * frame.shape[1]) for coord in bbox]  # Scale coordinates\n",
    "\n",
    "        cv2.rectangle(frame, (bbox[0], bbox[1]), (bbox[2], bbox[3]), (0, 255, 0), 2)\n",
    "\n",
    "    return frame\n",
    "\n",
    "# Open a webcam\n",
    "cap = cv2.VideoCapture(1)\n",
    "\n",
    "while True:\n",
    "    ret, frame = cap.read()\n",
    "    if not ret:\n",
    "        break\n",
    "\n",
    "    # Detect face\n",
    "    frame = detect_face(frame, model)\n",
    "\n",
    "    # Display the resulting frame\n",
    "    cv2.imshow('Face Detection', frame)\n",
    "\n",
    "    if cv2.waitKey(1) & 0xFF == 27:  # Press 'Esc' to exit\n",
    "        break\n",
    "\n",
    "# Release the capture\n",
    "cap.release()\n",
    "cv2.destroyAllWindows()"
   ]
  },
  {
   "cell_type": "code",
   "execution_count": null,
   "id": "8eabf65b-8a19-4a77-a446-50534002b946",
   "metadata": {},
   "outputs": [],
   "source": []
  }
 ],
 "metadata": {
  "kernelspec": {
   "display_name": "Python 3 (ipykernel)",
   "language": "python",
   "name": "python3"
  },
  "language_info": {
   "codemirror_mode": {
    "name": "ipython",
    "version": 3
   },
   "file_extension": ".py",
   "mimetype": "text/x-python",
   "name": "python",
   "nbconvert_exporter": "python",
   "pygments_lexer": "ipython3",
   "version": "3.10.11"
  }
 },
 "nbformat": 4,
 "nbformat_minor": 5
}
